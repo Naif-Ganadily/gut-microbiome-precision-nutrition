{
  "nbformat": 4,
  "nbformat_minor": 0,
  "metadata": {
    "colab": {
      "provenance": []
    },
    "kernelspec": {
      "name": "python3",
      "display_name": "Python 3"
    },
    "language_info": {
      "name": "python"
    }
  },
  "cells": [
    {
      "cell_type": "code",
      "execution_count": null,
      "metadata": {
        "id": "O8SekdUydy1T"
      },
      "outputs": [],
      "source": [
        "import tensorflow as tf\n",
        "from tensorflow.keras.models import Sequential\n",
        "from tensorflow.keras.layers import Dense, Dropout\n",
        "from tensorflow.keras.regularizers import l2\n",
        "\n",
        "\n",
        "model = Sequential()\n",
        "model.add(Dense(8, activation='relu', input_shape=(X_train_sparse_pca.shape[1],)))\n",
        "model.add(Dropout(0.4))\n",
        "model.add(Dense(4, activation='relu'))\n",
        "model.add(Dropout(0.4))\n",
        "model.add(Dense(1, activation='sigmoid'))  # Output layer for binary classification\n",
        "\n",
        "model.compile(optimizer='adam', loss='binary_crossentropy', metrics=['accuracy'])\n",
        "\n",
        "model.fit(X_train_sparse_pca, y_train, epochs=200, batch_size=8, validation_data=(X_test_sparse_pca, y_test))\n",
        "\n",
        "_, accuracy = model.evaluate(X_test_sparse_pca, y_test)\n",
        "print('Accuracy: %.2f' % (accuracy*100))\n"
      ]
    }
  ]
}